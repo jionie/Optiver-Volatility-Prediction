{
 "cells": [
  {
   "cell_type": "code",
   "execution_count": 27,
   "id": "a8e3ada0-6614-4638-9303-5dcb131c4592",
   "metadata": {},
   "outputs": [],
   "source": [
    "import numpy as np\n",
    "import pandas as pd\n",
    "import glob\n",
    "import os\n",
    "from tqdm import tqdm\n",
    "import seaborn as sns\n",
    "from joblib import dump, load, Parallel, delayed"
   ]
  },
  {
   "cell_type": "code",
   "execution_count": 13,
   "id": "5a91de81-c80b-451a-a2b5-2e7385b1414d",
   "metadata": {},
   "outputs": [],
   "source": [
    "data_dir = \"../../input/optiver-realized-volatility-prediction/\"\n",
    "train_order = glob.glob(os.path.join(data_dir, \"book_train.parquet/*/*\"))\n",
    "train_trade = glob.glob(os.path.join(data_dir, \"trade_train.parquet/*/*\"))"
   ]
  },
  {
   "cell_type": "code",
   "execution_count": 15,
   "id": "ad42685e-74d5-45ff-be93-5e1709596d7b",
   "metadata": {},
   "outputs": [
    {
     "name": "stderr",
     "output_type": "stream",
     "text": [
      "  0%|                                                                                          | 0/112 [00:00<?, ?it/s]\n"
     ]
    }
   ],
   "source": [
    "for path in tqdm(train_order):\n",
    "    stock_id = int(path.replace(\"\\\\\", \"/\").split(\"=\")[1].split(\"/\")[0])\n",
    "    book_df = pd.read_parquet(path)\n",
    "    break"
   ]
  },
  {
   "cell_type": "code",
   "execution_count": 16,
   "id": "36687ffd-4632-4c68-874f-e711b3043f2a",
   "metadata": {},
   "outputs": [
    {
     "data": {
      "text/html": [
       "<div>\n",
       "<style scoped>\n",
       "    .dataframe tbody tr th:only-of-type {\n",
       "        vertical-align: middle;\n",
       "    }\n",
       "\n",
       "    .dataframe tbody tr th {\n",
       "        vertical-align: top;\n",
       "    }\n",
       "\n",
       "    .dataframe thead th {\n",
       "        text-align: right;\n",
       "    }\n",
       "</style>\n",
       "<table border=\"1\" class=\"dataframe\">\n",
       "  <thead>\n",
       "    <tr style=\"text-align: right;\">\n",
       "      <th></th>\n",
       "      <th>time_id</th>\n",
       "      <th>seconds_in_bucket</th>\n",
       "      <th>bid_price1</th>\n",
       "      <th>ask_price1</th>\n",
       "      <th>bid_price2</th>\n",
       "      <th>ask_price2</th>\n",
       "      <th>bid_size1</th>\n",
       "      <th>ask_size1</th>\n",
       "      <th>bid_size2</th>\n",
       "      <th>ask_size2</th>\n",
       "    </tr>\n",
       "  </thead>\n",
       "  <tbody>\n",
       "    <tr>\n",
       "      <th>0</th>\n",
       "      <td>5</td>\n",
       "      <td>0</td>\n",
       "      <td>1.001422</td>\n",
       "      <td>1.002301</td>\n",
       "      <td>1.00137</td>\n",
       "      <td>1.002353</td>\n",
       "      <td>3</td>\n",
       "      <td>226</td>\n",
       "      <td>2</td>\n",
       "      <td>100</td>\n",
       "    </tr>\n",
       "    <tr>\n",
       "      <th>1</th>\n",
       "      <td>5</td>\n",
       "      <td>1</td>\n",
       "      <td>1.001422</td>\n",
       "      <td>1.002301</td>\n",
       "      <td>1.00137</td>\n",
       "      <td>1.002353</td>\n",
       "      <td>3</td>\n",
       "      <td>100</td>\n",
       "      <td>2</td>\n",
       "      <td>100</td>\n",
       "    </tr>\n",
       "    <tr>\n",
       "      <th>2</th>\n",
       "      <td>5</td>\n",
       "      <td>5</td>\n",
       "      <td>1.001422</td>\n",
       "      <td>1.002301</td>\n",
       "      <td>1.00137</td>\n",
       "      <td>1.002405</td>\n",
       "      <td>3</td>\n",
       "      <td>100</td>\n",
       "      <td>2</td>\n",
       "      <td>100</td>\n",
       "    </tr>\n",
       "    <tr>\n",
       "      <th>3</th>\n",
       "      <td>5</td>\n",
       "      <td>6</td>\n",
       "      <td>1.001422</td>\n",
       "      <td>1.002301</td>\n",
       "      <td>1.00137</td>\n",
       "      <td>1.002405</td>\n",
       "      <td>3</td>\n",
       "      <td>126</td>\n",
       "      <td>2</td>\n",
       "      <td>100</td>\n",
       "    </tr>\n",
       "    <tr>\n",
       "      <th>4</th>\n",
       "      <td>5</td>\n",
       "      <td>7</td>\n",
       "      <td>1.001422</td>\n",
       "      <td>1.002301</td>\n",
       "      <td>1.00137</td>\n",
       "      <td>1.002405</td>\n",
       "      <td>3</td>\n",
       "      <td>126</td>\n",
       "      <td>2</td>\n",
       "      <td>100</td>\n",
       "    </tr>\n",
       "  </tbody>\n",
       "</table>\n",
       "</div>"
      ],
      "text/plain": [
       "   time_id  seconds_in_bucket  bid_price1  ask_price1  bid_price2  ask_price2  \\\n",
       "0        5                  0    1.001422    1.002301     1.00137    1.002353   \n",
       "1        5                  1    1.001422    1.002301     1.00137    1.002353   \n",
       "2        5                  5    1.001422    1.002301     1.00137    1.002405   \n",
       "3        5                  6    1.001422    1.002301     1.00137    1.002405   \n",
       "4        5                  7    1.001422    1.002301     1.00137    1.002405   \n",
       "\n",
       "   bid_size1  ask_size1  bid_size2  ask_size2  \n",
       "0          3        226          2        100  \n",
       "1          3        100          2        100  \n",
       "2          3        100          2        100  \n",
       "3          3        126          2        100  \n",
       "4          3        126          2        100  "
      ]
     },
     "execution_count": 16,
     "metadata": {},
     "output_type": "execute_result"
    }
   ],
   "source": [
    "book_df.head()"
   ]
  },
  {
   "cell_type": "code",
   "execution_count": 35,
   "id": "a8b98ae5-2925-4df6-92e5-76df382b52d9",
   "metadata": {},
   "outputs": [],
   "source": [
    "minmax_stat_path = \"../../ckpts/{}_minmax_stat_fold_{}.pkl\".format(\"bert\", 1)"
   ]
  },
  {
   "cell_type": "code",
   "execution_count": 36,
   "id": "3efa794e-e918-4472-8a33-6cd009a1e169",
   "metadata": {},
   "outputs": [],
   "source": [
    "minmax_stat = load(minmax_stat_path)"
   ]
  },
  {
   "cell_type": "code",
   "execution_count": 37,
   "id": "7cf548a3-57db-4a5c-9366-59149a4258a8",
   "metadata": {},
   "outputs": [
    {
     "data": {
      "text/plain": [
       "{'order_min': array([-3.3800341e-02, -3.7273318e-02,  5.2452087e-06,  3.9339066e-05,\n",
       "        -9.6741500e+05, -7.8365300e+05, -9.9997890e-01, -9.9998671e-01,\n",
       "        -2.4471147e-02, -3.0927841e-02], dtype=float32),\n",
       " 'order_max': array([ 3.2983236e-02,  4.3985270e-02,  5.0170064e-02,  6.3829780e-02,\n",
       "         3.3939200e+05,  8.7809400e+05,  9.9997932e-01,  9.9998301e-01,\n",
       "        -2.6230957e-06, -1.9679910e-05], dtype=float32),\n",
       " 'trade_min': array([-0.02304586,  0.        ,  0.        ]),\n",
       " 'trade_max': array([1.58063527e-02, 7.29370312e+05, 3.72900000e+03])}"
      ]
     },
     "execution_count": 37,
     "metadata": {},
     "output_type": "execute_result"
    }
   ],
   "source": [
    "minmax_stat"
   ]
  },
  {
   "cell_type": "code",
   "execution_count": 38,
   "id": "d3e12cfe-bd3d-461e-891b-d006af98d134",
   "metadata": {},
   "outputs": [
    {
     "name": "stdout",
     "output_type": "stream",
     "text": [
      "[1. 1. 3. 4.]\n"
     ]
    }
   ],
   "source": [
    "a = np.array([1 , 2, 3, np.nan])\n",
    "b = np.array([2, 1, 3, 4])\n",
    "\n",
    "print(np.fmin(a, b))"
   ]
  },
  {
   "cell_type": "code",
   "execution_count": null,
   "id": "f1b3021b-2979-491a-925a-057a6596c622",
   "metadata": {},
   "outputs": [],
   "source": []
  }
 ],
 "metadata": {
  "kernelspec": {
   "display_name": "Python 3",
   "language": "python",
   "name": "python3"
  },
  "language_info": {
   "codemirror_mode": {
    "name": "ipython",
    "version": 3
   },
   "file_extension": ".py",
   "mimetype": "text/x-python",
   "name": "python",
   "nbconvert_exporter": "python",
   "pygments_lexer": "ipython3",
   "version": "3.8.8"
  }
 },
 "nbformat": 4,
 "nbformat_minor": 5
}
